{
 "cells": [
  {
   "cell_type": "markdown",
   "id": "80f41829-f693-4925-8ce9-8fb3b0b6b59a",
   "metadata": {},
   "source": [
    "expenses = []\n",
    "file_name = 'expenses.csv'"
   ]
  },
  {
   "cell_type": "markdown",
   "id": "664d0da9-5c19-49eb-acc1-16dcc0eb1d7d",
   "metadata": {},
   "source": [
    "def add_expense():\n",
    "    date = input(\"Date (YYYY-MM-DD): \")\n",
    "    category = input(\"Category (Food/Travel/Shopping/Loan): \")\n",
    "    try:\n",
    "        amount = float(input(\"Amount: \"))\n",
    "    except:\n",
    "        print(\"Amount should be a number!\")\n",
    "        return\n",
    "    desc = input(\"Description: \")\n",
    "    expenses.append([date, category, amount, desc])\n",
    "    print(\"Expense added!\\n\")"
   ]
  },
  {
   "cell_type": "markdown",
   "id": "d937c1d0-4d82-4563-8b9f-39b0c3d89a30",
   "metadata": {},
   "source": [
    "def view_expenses():\n",
    "    if len(expenses) == 0:\n",
    "        print(\"No expenses have been added yet.\")\n",
    "    else:\n",
    "        for e in expenses:\n",
    "            print(\"Date:\", e[0], \"| Category:\", e[1], \"| Amount:\", e[2], \"| Description:\", e[3])\n",
    "        print()"
   ]
  },
  {
   "cell_type": "markdown",
   "id": "1026f13b-6a43-465e-b765-4f4ba7a8959c",
   "metadata": {},
   "source": [
    "def check_budget():\n",
    "    try:\n",
    "        budget = float(input(\"Enter your monthly budget: \"))\n",
    "        total = sum([e[2] for e in expenses])\n",
    "        print(\"Total expenses:\", total)\n",
    "        if total > budget:\n",
    "            print(\"Your expenses to much from your budget!\")\n",
    "        else:\n",
    "            print(\"You expense within the budget.\")\n",
    "    except:\n",
    "        print(\"Budget should be in a number.\")"
   ]
  },
  {
   "cell_type": "markdown",
   "id": "b4ef452c-8020-4670-a64a-cf382fd99770",
   "metadata": {},
   "source": [
    "def save_expenses():\n",
    "    import csv\n",
    "    with open(file_name, 'w', newline='') as f:\n",
    "        writer = csv.writer(f)\n",
    "        writer.writerow(['Date', 'Category', 'Amount', 'Description'])\n",
    "        writer.writerows(expenses)\n",
    "    print(\"Expenses saved!\\n\")"
   ]
  },
  {
   "cell_type": "markdown",
   "id": "1a93eabf-f654-4b47-8087-4b299cc0ee7c",
   "metadata": {},
   "source": [
    "def load_expenses():\n",
    "    import csv\n",
    "    try:\n",
    "        with open(file_name, 'r') as f:\n",
    "            reader = csv.reader(f)\n",
    "            next(reader)  \n",
    "            for row in reader:\n",
    "                row[2] = float(row[2])\n",
    "                expenses.append(row)\n",
    "        print(\"Expenses loaded from file.\\n\")\n",
    "    except:\n",
    "        print(\"No saved file found. Starting fresh.\\n\")"
   ]
  },
  {
   "cell_type": "markdown",
   "id": "ede1d0d2-5607-4f95-a834-e94b0ace0186",
   "metadata": {},
   "source": [
    "def menu():\n",
    "    load_expenses()\n",
    "    while True:\n",
    "        print(\"1. Add Expense\")\n",
    "        print(\"2. View Expenses\")\n",
    "        print(\"3. Check Budget\")\n",
    "        print(\"4. Save Expenses\")\n",
    "        print(\"5. Exit\")\n",
    "        choice = input(\"Enter your choice: \")\n",
    "        \n",
    "        if choice == '1':\n",
    "            add_expense()\n",
    "        elif choice == '2':\n",
    "            view_expenses()\n",
    "        elif choice == '3':\n",
    "            check_budget()\n",
    "        elif choice == '4':\n",
    "            save_expenses()\n",
    "        elif choice == '5':\n",
    "            save_expenses()\n",
    "            print(\"Goodbye!\")\n",
    "            break\n",
    "        else:\n",
    "            print(\"Please enter a number between 1 and 5.\\n\")\n",
    "\n",
    " menu()\n",
    "\n"
   ]
  }
 ],
 "metadata": {
  "kernelspec": {
   "display_name": "Python [conda env:base] *",
   "language": "python",
   "name": "conda-base-py"
  },
  "language_info": {
   "codemirror_mode": {
    "name": "ipython",
    "version": 3
   },
   "file_extension": ".py",
   "mimetype": "text/x-python",
   "name": "python",
   "nbconvert_exporter": "python",
   "pygments_lexer": "ipython3",
   "version": "3.12.7"
  }
 },
 "nbformat": 4,
 "nbformat_minor": 5
}
